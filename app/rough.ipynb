{
 "cells": [
  {
   "cell_type": "code",
   "execution_count": 6,
   "id": "308e593f",
   "metadata": {},
   "outputs": [],
   "source": [
    "import sqlite3\n",
    "import pandas as pd\n",
    "\n",
    "def query_db(query):\n",
    "    print('hi')\n",
    "    conn = sqlite3.connect(r\"../db/rossman_db.sqlite\")\n",
    "    cursor = conn.cursor()\n",
    "\n",
    "    # Execute the SQL query to get the list of tables\n",
    "    cursor.execute(\"SELECT name FROM sqlite_master WHERE type='table';\")\n",
    "\n",
    "    # Fetch all the results\n",
    "    tables = cursor.fetchall()\n",
    "\n",
    "    # Print the list of tables\n",
    "    if tables:\n",
    "        print(\"Tables in the database:\")\n",
    "        for table in tables:\n",
    "            print(table[0])  # The table name is the first element of the tuple\n",
    "    else:\n",
    "        print(\"No tables found in the database.\")\n",
    "    df = pd.read_sql_query(query, conn)\n",
    "    conn.close()\n",
    "    return df"
   ]
  },
  {
   "cell_type": "code",
   "execution_count": 11,
   "id": "f013e1ff",
   "metadata": {},
   "outputs": [
    {
     "name": "stdout",
     "output_type": "stream",
     "text": [
      "Empty DataFrame\n",
      "Columns: [name]\n",
      "Index: []\n",
      "hi\n",
      "Tables in the database:\n",
      "sales\n",
      "rossman\n"
     ]
    }
   ],
   "source": [
    "conn = sqlite3.connect(\"../db/rossman.sqlite\")\n",
    "\n",
    "\n",
    "query = open(r\"../scripts/underperformers.sql\").read()\n",
    "tables = pd.read_sql_query(\"SELECT name FROM sqlite_master WHERE type='table';\", conn)\n",
    "print(tables)\n",
    "df = query_db(query)"
   ]
  },
  {
   "cell_type": "code",
   "execution_count": null,
   "id": "50f139ce",
   "metadata": {},
   "outputs": [],
   "source": []
  }
 ],
 "metadata": {
  "kernelspec": {
   "display_name": "base",
   "language": "python",
   "name": "python3"
  },
  "language_info": {
   "codemirror_mode": {
    "name": "ipython",
    "version": 3
   },
   "file_extension": ".py",
   "mimetype": "text/x-python",
   "name": "python",
   "nbconvert_exporter": "python",
   "pygments_lexer": "ipython3",
   "version": "3.12.3"
  }
 },
 "nbformat": 4,
 "nbformat_minor": 5
}
